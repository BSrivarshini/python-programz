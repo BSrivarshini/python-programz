{
  "nbformat": 4,
  "nbformat_minor": 0,
  "metadata": {
    "colab": {
      "provenance": []
    },
    "kernelspec": {
      "name": "python3",
      "display_name": "Python 3"
    },
    "language_info": {
      "name": "python"
    }
  },
  "cells": [
    {
      "cell_type": "code",
      "execution_count": 1,
      "metadata": {
        "colab": {
          "base_uri": "https://localhost:8080/"
        },
        "id": "xO1NVs3wQ7fd",
        "outputId": "3d9dd01a-adf4-4226-a762-ad140ef9465c"
      },
      "outputs": [
        {
          "output_type": "stream",
          "name": "stdout",
          "text": [
            "hello world\n"
          ]
        }
      ],
      "source": [
        "print(\"hello world\")"
      ]
    },
    {
      "cell_type": "code",
      "source": [
        "def add(x,y):\n",
        "    return x+y\n",
        "\n",
        "def subtract(x,y):\n",
        "    return x-y\n",
        "\n",
        "def multiply(x,y):\n",
        "    return x*y\n",
        "\n",
        "def divide(x,y):\n",
        "    if y!=0:\n",
        "       return x/y\n",
        "    else:\n",
        "       return \"error! division\"\n",
        "\n",
        "def calculator():\n",
        "    print(\"select operation\")\n",
        "    print(\"choose operation\")\n",
        "    print(\"1. add\")\n",
        "    print(\"2. subtract\")\n",
        "    print(\"3. multiply\")\n",
        "    print(\"4. divide\")\n",
        "\n",
        "    while True:\n",
        "        choice = input(\"enter choice(1/2/3/4)\")\n",
        "        if choice in ['1','2','3','4']:\n",
        "                num1= float(input(\"enter first number:\"))\n",
        "                num2= float(input(\"enter second number:\"))\n",
        "\n",
        "        if choice == '1':\n",
        "            print(f\"The result is: {add(num1 , num2)}\")\n",
        "        elif choice == '2':\n",
        "            print(f\"The result is: {subtract(num1 , num2)}\")\n",
        "        elif choice == '3':\n",
        "            print(f\"The result is: {multiply(num1 , num2)}\")\n",
        "        elif choice == '4':\n",
        "            print(f\"The result is: {divide(num1 , num2)}\")\n",
        "\n",
        "        next_calculation = input(\"do you want to perform another calculation? (yes/no):\")\n",
        "        if next_calculation.lower() != 'yes':\n",
        "            break\n",
        "        else:\n",
        "            print(\"invalid input\")\n",
        "\n",
        "calculator()\n"
      ],
      "metadata": {
        "colab": {
          "base_uri": "https://localhost:8080/"
        },
        "id": "5hDGTmAqXcZM",
        "outputId": "591ecefc-7cc9-43a0-afee-fd5d8b69eb45"
      },
      "execution_count": 29,
      "outputs": [
        {
          "name": "stdout",
          "output_type": "stream",
          "text": [
            "select operation\n",
            "choose operation\n",
            "1. add\n",
            "2. subtract\n",
            "3. multiply\n",
            "4. divide\n",
            "enter choice(1/2/3/4)1\n",
            "enter first number:29\n",
            "enter second number:12\n",
            "The result is: 41.0\n",
            "do you want to perform another calculation? (yes/no):yes\n",
            "invalid input\n",
            "enter choice(1/2/3/4)3\n",
            "enter first number:6\n",
            "enter second number:4\n",
            "The result is: 24.0\n",
            "do you want to perform another calculation? (yes/no):no\n"
          ]
        }
      ]
    },
    {
      "cell_type": "code",
      "source": [
        "2"
      ],
      "metadata": {
        "colab": {
          "base_uri": "https://localhost:8080/"
        },
        "id": "Dfi_7DCJZ6He",
        "outputId": "f4faa769-5d01-45ba-88c3-2455770720f1"
      },
      "execution_count": 28,
      "outputs": [
        {
          "output_type": "execute_result",
          "data": {
            "text/plain": [
              "2"
            ]
          },
          "metadata": {},
          "execution_count": 28
        }
      ]
    },
    {
      "cell_type": "code",
      "source": [],
      "metadata": {
        "id": "6KyBeVJXc4C6"
      },
      "execution_count": null,
      "outputs": []
    }
  ]
}